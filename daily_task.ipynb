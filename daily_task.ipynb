{
  "nbformat": 4,
  "nbformat_minor": 0,
  "metadata": {
    "colab": {
      "provenance": []
    },
    "kernelspec": {
      "name": "python3",
      "display_name": "Python 3"
    },
    "language_info": {
      "name": "python"
    }
  },
  "cells": [
    {
      "cell_type": "code",
      "source": [
        "a='hello world'\n",
        "a[0:5]"
      ],
      "metadata": {
        "colab": {
          "base_uri": "https://localhost:8080/",
          "height": 36
        },
        "id": "LLcGjiBMag1Q",
        "outputId": "63fb4a2e-391d-4911-beb9-1d0f50ab705b"
      },
      "execution_count": null,
      "outputs": [
        {
          "output_type": "execute_result",
          "data": {
            "text/plain": [
              "'hello'"
            ],
            "application/vnd.google.colaboratory.intrinsic+json": {
              "type": "string"
            }
          },
          "metadata": {},
          "execution_count": 7
        }
      ]
    },
    {
      "cell_type": "code",
      "source": [
        "b='python is fun'\n",
        "b[7:9]"
      ],
      "metadata": {
        "colab": {
          "base_uri": "https://localhost:8080/",
          "height": 36
        },
        "id": "53wIP49TbUs0",
        "outputId": "1f2e1917-3864-47b1-d7ee-398ce80bc46a"
      },
      "execution_count": null,
      "outputs": [
        {
          "output_type": "execute_result",
          "data": {
            "text/plain": [
              "'is'"
            ],
            "application/vnd.google.colaboratory.intrinsic+json": {
              "type": "string"
            }
          },
          "metadata": {},
          "execution_count": 8
        }
      ]
    },
    {
      "cell_type": "code",
      "source": [
        "c='programming'\n",
        "c[3:7]"
      ],
      "metadata": {
        "colab": {
          "base_uri": "https://localhost:8080/",
          "height": 36
        },
        "id": "jinsZtw-buJA",
        "outputId": "c43b97da-5bb0-4b0e-810f-f269d4682d40"
      },
      "execution_count": null,
      "outputs": [
        {
          "output_type": "execute_result",
          "data": {
            "text/plain": [
              "'gram'"
            ],
            "application/vnd.google.colaboratory.intrinsic+json": {
              "type": "string"
            }
          },
          "metadata": {},
          "execution_count": 9
        }
      ]
    },
    {
      "cell_type": "code",
      "source": [
        "b='abcdefgh'\n",
        "b[0:9:2]"
      ],
      "metadata": {
        "colab": {
          "base_uri": "https://localhost:8080/",
          "height": 36
        },
        "id": "wZuTgleIcLeX",
        "outputId": "1af113ef-2bf5-4c78-b5d2-59b21f41be21"
      },
      "execution_count": null,
      "outputs": [
        {
          "output_type": "execute_result",
          "data": {
            "text/plain": [
              "'aceg'"
            ],
            "application/vnd.google.colaboratory.intrinsic+json": {
              "type": "string"
            }
          },
          "metadata": {},
          "execution_count": 10
        }
      ]
    },
    {
      "cell_type": "code",
      "source": [
        "b='abcdefg'\n",
        "b[-3:]"
      ],
      "metadata": {
        "colab": {
          "base_uri": "https://localhost:8080/",
          "height": 36
        },
        "id": "RekbKQnNc5JP",
        "outputId": "c811a8a5-17d3-4000-e726-6ace369fa028"
      },
      "execution_count": null,
      "outputs": [
        {
          "output_type": "execute_result",
          "data": {
            "text/plain": [
              "'efg'"
            ],
            "application/vnd.google.colaboratory.intrinsic+json": {
              "type": "string"
            }
          },
          "metadata": {},
          "execution_count": 16
        }
      ]
    },
    {
      "cell_type": "code",
      "source": [
        "b='Data Science'\n",
        "b[-3:]"
      ],
      "metadata": {
        "colab": {
          "base_uri": "https://localhost:8080/",
          "height": 36
        },
        "id": "fHLKR3DhdcoI",
        "outputId": "5b449de2-d963-4deb-dc9b-3b6f74f6e68b"
      },
      "execution_count": null,
      "outputs": [
        {
          "output_type": "execute_result",
          "data": {
            "text/plain": [
              "'nce'"
            ],
            "application/vnd.google.colaboratory.intrinsic+json": {
              "type": "string"
            }
          },
          "metadata": {},
          "execution_count": 17
        }
      ]
    },
    {
      "cell_type": "code",
      "source": [
        "b='abcdefgh'\n",
        "b[1:9:2]"
      ],
      "metadata": {
        "colab": {
          "base_uri": "https://localhost:8080/",
          "height": 36
        },
        "id": "w558NdGfeQYm",
        "outputId": "8a90deec-47ac-4922-97dc-caf3732cb52e"
      },
      "execution_count": null,
      "outputs": [
        {
          "output_type": "execute_result",
          "data": {
            "text/plain": [
              "'bdfh'"
            ],
            "application/vnd.google.colaboratory.intrinsic+json": {
              "type": "string"
            }
          },
          "metadata": {},
          "execution_count": 19
        }
      ]
    },
    {
      "cell_type": "code",
      "source": [
        "b='1234567890'\n",
        "b[::2]"
      ],
      "metadata": {
        "colab": {
          "base_uri": "https://localhost:8080/",
          "height": 36
        },
        "id": "kxsGWDltesck",
        "outputId": "f2c5ffde-4d45-4035-ec65-a5bfadc48fde"
      },
      "execution_count": null,
      "outputs": [
        {
          "output_type": "execute_result",
          "data": {
            "text/plain": [
              "'13579'"
            ],
            "application/vnd.google.colaboratory.intrinsic+json": {
              "type": "string"
            }
          },
          "metadata": {},
          "execution_count": 22
        }
      ]
    },
    {
      "cell_type": "code",
      "source": [
        "b='hello'\n",
        "b[::-1]"
      ],
      "metadata": {
        "id": "Lcgu41ZYfmem",
        "colab": {
          "base_uri": "https://localhost:8080/",
          "height": 36
        },
        "outputId": "4cba628b-79b8-42da-9d9c-8848ae4d0251"
      },
      "execution_count": null,
      "outputs": [
        {
          "output_type": "execute_result",
          "data": {
            "text/plain": [
              "'olleh'"
            ],
            "application/vnd.google.colaboratory.intrinsic+json": {
              "type": "string"
            }
          },
          "metadata": {},
          "execution_count": 24
        }
      ]
    },
    {
      "cell_type": "code",
      "source": [
        "b='abcdefghijk'\n",
        "b[::2]"
      ],
      "metadata": {
        "id": "mnPmfSD3jRfI",
        "colab": {
          "base_uri": "https://localhost:8080/",
          "height": 36
        },
        "outputId": "1c4301eb-4593-4726-f1aa-9fc2adb801d6"
      },
      "execution_count": null,
      "outputs": [
        {
          "output_type": "execute_result",
          "data": {
            "text/plain": [
              "'acegik'"
            ],
            "application/vnd.google.colaboratory.intrinsic+json": {
              "type": "string"
            }
          },
          "metadata": {},
          "execution_count": 26
        }
      ]
    },
    {
      "cell_type": "code",
      "source": [
        "num=[1,2,3,4,5,6,7,8]\n",
        "sum(num)"
      ],
      "metadata": {
        "colab": {
          "base_uri": "https://localhost:8080/"
        },
        "id": "Ox3I_zzJjyuS",
        "outputId": "1981d390-55a0-4f9b-a43f-beb2819ede2c"
      },
      "execution_count": null,
      "outputs": [
        {
          "output_type": "execute_result",
          "data": {
            "text/plain": [
              "36"
            ]
          },
          "metadata": {},
          "execution_count": 27
        }
      ]
    },
    {
      "cell_type": "code",
      "source": [
        "sent='data science'\n",
        "len(sent)\n",
        "sent[0:7]\n"
      ],
      "metadata": {
        "colab": {
          "base_uri": "https://localhost:8080/",
          "height": 36
        },
        "id": "u2PCdAsikMGI",
        "outputId": "6f92f47f-8750-4c82-9330-f931c8013eb3"
      },
      "execution_count": null,
      "outputs": [
        {
          "output_type": "execute_result",
          "data": {
            "text/plain": [
              "'data sc'"
            ],
            "application/vnd.google.colaboratory.intrinsic+json": {
              "type": "string"
            }
          },
          "metadata": {},
          "execution_count": 32
        }
      ]
    },
    {
      "cell_type": "code",
      "source": [
        "integers = (78, 45, 32, 19, 82, 77, 40, 39)\n",
        "new=list(integers)\n",
        "new[2]=120\n",
        "new_integers=tuple(new)\n",
        "print(new_integers)"
      ],
      "metadata": {
        "colab": {
          "base_uri": "https://localhost:8080/"
        },
        "id": "k1egDetdlFj2",
        "outputId": "3031965c-625e-4148-de9e-155297441224"
      },
      "execution_count": null,
      "outputs": [
        {
          "output_type": "stream",
          "name": "stdout",
          "text": [
            "(78, 45, 120, 19, 82, 77, 40, 39)\n"
          ]
        }
      ]
    },
    {
      "cell_type": "code",
      "source": [
        "listA = [19, 32, 10, 55, 31, 32, 94, 29, 10, 65, 77, 40, 40]\n",
        "listA.remove(32)\n",
        "print(listA)\n",
        "while 40 in listA:\n",
        " listA.remove(40)\n",
        "print(listA)\n",
        "del listA[5]\n",
        "print(listA)\n",
        "listA.insert(2, 200)\n",
        "print(listA)\n",
        "print(\"Final list:\", listA)\n",
        "print(\"Length of the list:\", len(listA))\n",
        "print(\"Maximum value in the list:\", max(listA))\n",
        "print(\"Sum of all elements in the list:\", sum(listA))\n"
      ],
      "metadata": {
        "colab": {
          "base_uri": "https://localhost:8080/"
        },
        "id": "xveM1uoznJWZ",
        "outputId": "c1e3487f-4f65-44ab-9d27-7f8d9aaba5ba"
      },
      "execution_count": null,
      "outputs": [
        {
          "output_type": "stream",
          "name": "stdout",
          "text": [
            "[19, 10, 55, 31, 32, 94, 29, 10, 65, 77, 40, 40]\n",
            "[19, 10, 55, 31, 32, 94, 29, 10, 65, 77]\n",
            "[19, 10, 55, 31, 32, 29, 10, 65, 77]\n",
            "[19, 10, 200, 55, 31, 32, 29, 10, 65, 77]\n",
            "Final list: [19, 10, 200, 55, 31, 32, 29, 10, 65, 77]\n",
            "Length of the list: 10\n",
            "Maximum value in the list: 200\n",
            "Sum of all elements in the list: 528\n"
          ]
        }
      ]
    },
    {
      "cell_type": "code",
      "source": [
        "string = \"The day has been long\"\n",
        "new_string=list(string)\n",
        "del new_string[4]\n",
        "final_string=''.join(new_string)\n",
        "print(final_string)\n",
        "print((string + \" \") * 4)\n",
        "print((string + \"\\n\") * 3)\n",
        "new_string = string[:7] + 'A' + string[8:]\n",
        "print(new_string)\n",
        "\n",
        "\n",
        "print(string[4:16])\n",
        "\n",
        "\n",
        "final_string = new_string\n",
        "print(final_string, len(final_string))\n"
      ],
      "metadata": {
        "id": "1pwtg63mrgJK",
        "colab": {
          "base_uri": "https://localhost:8080/"
        },
        "outputId": "73d840eb-70ba-4f9d-a67c-23071733a83e"
      },
      "execution_count": 63,
      "outputs": [
        {
          "output_type": "stream",
          "name": "stdout",
          "text": [
            "The ay has been long\n",
            "The day has been long The day has been long The day has been long The day has been long \n",
            "The day has been long\n",
            "The day has been long\n",
            "The day has been long\n",
            "\n",
            "The dayAhas been long\n",
            "day has been\n",
            "The dayAhas been long 21\n"
          ]
        }
      ]
    },
    {
      "cell_type": "code",
      "source": [],
      "metadata": {
        "id": "vpV_OoW4zKTy"
      },
      "execution_count": null,
      "outputs": []
    }
  ]
}